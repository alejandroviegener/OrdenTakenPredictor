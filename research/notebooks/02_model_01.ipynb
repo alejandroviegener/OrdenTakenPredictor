{
 "metadata": {
  "language_info": {
   "codemirror_mode": {
    "name": "ipython",
    "version": 3
   },
   "file_extension": ".py",
   "mimetype": "text/x-python",
   "name": "python",
   "nbconvert_exporter": "python",
   "pygments_lexer": "ipython3",
   "version": "3.8.5-final"
  },
  "orig_nbformat": 2,
  "kernelspec": {
   "name": "Python 3.8.5 64-bit ('.venv')",
   "display_name": "Python 3.8.5 64-bit ('.venv')",
   "metadata": {
    "interpreter": {
     "hash": "d99e53e6ba37c9ce744e72f2c4f6b34e9b9cb96ba6ffda5d56a657fde0263a32"
    }
   }
  }
 },
 "nbformat": 4,
 "nbformat_minor": 2,
 "cells": [
  {
   "source": [
    "### Logistic Regression"
   ],
   "cell_type": "markdown",
   "metadata": {}
  },
  {
   "cell_type": "code",
   "execution_count": 1,
   "metadata": {},
   "outputs": [],
   "source": [
    "import numpy as np\n",
    "import pandas as pd\n",
    "import seaborn as sns\n",
    "import matplotlib.pyplot as plt\n",
    "\n",
    "from sklearn import model_selection\n",
    "from sklearn import linear_model\n",
    "from sklearn import metrics\n",
    "from sklearn import preprocessing\n",
    "from sklearn import pipeline\n",
    "from sklearn import compose"
   ]
  },
  {
   "cell_type": "code",
   "execution_count": 2,
   "metadata": {},
   "outputs": [],
   "source": [
    "# Load dataset\n",
    "base_dir = \"../datasets/\"\n",
    "orders_df = pd.read_csv(base_dir + \"orders.csv\")\n",
    "\n",
    "# Convert timestamp to date time\n",
    "orders_df[\"created_at\"] = pd.to_datetime(orders_df[\"created_at\"])\n",
    "\n",
    "# Create date related features\n",
    "# Year and month are left out, see\n",
    "orders_df[\"day_of_week\"] = orders_df[\"created_at\"].dt.dayofweek\n",
    "orders_df[\"month\"] = orders_df[\"created_at\"].dt.month\n",
    "orders_df[\"time_of_day\"] = orders_df[\"created_at\"].dt.hour + orders_df[\"created_at\"].dt.minute / 60\n",
    "orders_df[\"day_of_month\"] = orders_df[\"created_at\"].dt.day "
   ]
  },
  {
   "cell_type": "code",
   "execution_count": 3,
   "metadata": {},
   "outputs": [],
   "source": [
    "# Filter outliers\n",
    "\n",
    "filter_elevation = (orders_df[\"to_user_elevation\"] < 600) \n",
    "filter_earnings = (orders_df[\"total_earning\"] < 40000) & (orders_df[\"total_earning\"] > 0)\n",
    "filter_distance = orders_df[\"to_user_distance\"] < 8\n",
    "\n",
    "orders_df = orders_df[filter_elevation & filter_earnings & filter_distance]"
   ]
  },
  {
   "cell_type": "code",
   "execution_count": 4,
   "metadata": {},
   "outputs": [
    {
     "output_type": "execute_result",
     "data": {
      "text/plain": [
       "Index(['order_id', 'store_id', 'to_user_distance', 'to_user_elevation',\n",
       "       'total_earning', 'created_at', 'taken', 'day_of_week', 'month',\n",
       "       'time_of_day', 'day_of_month'],\n",
       "      dtype='object')"
      ]
     },
     "metadata": {},
     "execution_count": 4
    }
   ],
   "source": [
    "orders_df.columns"
   ]
  },
  {
   "cell_type": "code",
   "execution_count": 5,
   "metadata": {},
   "outputs": [],
   "source": [
    "features = orders_df[[\"to_user_distance\", \"to_user_elevation\", \"total_earning\", \"day_of_week\", \"time_of_day\", \"day_of_month\"]]\n",
    "labels = orders_df[\"taken\"]\n",
    "X_train, X_test, y_train, y_test = model_selection.train_test_split(features, labels, test_size = 0.25, stratify=labels, random_state=314)"
   ]
  },
  {
   "cell_type": "code",
   "execution_count": 6,
   "metadata": {},
   "outputs": [
    {
     "output_type": "execute_result",
     "data": {
      "text/plain": [
       "Index(['to_user_distance', 'to_user_elevation', 'total_earning', 'day_of_week',\n",
       "       'time_of_day', 'day_of_month'],\n",
       "      dtype='object')"
      ]
     },
     "metadata": {},
     "execution_count": 6
    }
   ],
   "source": [
    "# Verify selected features\n",
    "X_train.columns"
   ]
  },
  {
   "cell_type": "code",
   "execution_count": 7,
   "metadata": {},
   "outputs": [
    {
     "output_type": "execute_result",
     "data": {
      "text/plain": [
       "count    36744.000000\n",
       "mean         0.921212\n",
       "std          0.269412\n",
       "min          0.000000\n",
       "25%          1.000000\n",
       "50%          1.000000\n",
       "75%          1.000000\n",
       "max          1.000000\n",
       "Name: taken, dtype: float64"
      ]
     },
     "metadata": {},
     "execution_count": 7
    }
   ],
   "source": [
    "# Verify strtification\n",
    "y_test.describe()"
   ]
  },
  {
   "cell_type": "code",
   "execution_count": 8,
   "metadata": {},
   "outputs": [
    {
     "output_type": "execute_result",
     "data": {
      "text/plain": [
       "LogisticRegression(class_weight='balanced', random_state=314)"
      ]
     },
     "metadata": {},
     "execution_count": 8
    }
   ],
   "source": [
    "# First model using weight balancing\n",
    "model = linear_model.LogisticRegression(random_state=314, max_iter=100, class_weight=\"balanced\")\n",
    "model.fit(X_train, y_train)"
   ]
  },
  {
   "cell_type": "code",
   "execution_count": 9,
   "metadata": {},
   "outputs": [
    {
     "output_type": "stream",
     "name": "stdout",
     "text": [
      "ROC-auc train 0.5997661319714612\nROC-auc train 0.5918095406037512\n"
     ]
    }
   ],
   "source": [
    "# Get scores\n",
    "print( \"ROC-auc train\", metrics.roc_auc_score(y_train, model.predict(X_train)) )\n",
    "print( \"ROC-auc test\", metrics.roc_auc_score(y_test, model.predict(X_test)) )"
   ]
  },
  {
   "cell_type": "code",
   "execution_count": 10,
   "metadata": {},
   "outputs": [
    {
     "output_type": "execute_result",
     "data": {
      "text/plain": [
       "<AxesSubplot:xlabel='x', ylabel='y'>"
      ]
     },
     "metadata": {},
     "execution_count": 10
    },
    {
     "output_type": "display_data",
     "data": {
      "text/plain": "<Figure size 432x288 with 1 Axes>",
      "image/svg+xml": "<?xml version=\"1.0\" encoding=\"utf-8\" standalone=\"no\"?>\n<!DOCTYPE svg PUBLIC \"-//W3C//DTD SVG 1.1//EN\"\n  \"http://www.w3.org/Graphics/SVG/1.1/DTD/svg11.dtd\">\n<!-- Created with matplotlib (https://matplotlib.org/) -->\n<svg height=\"262.19625pt\" version=\"1.1\" viewBox=\"0 0 385.78125 262.19625\" width=\"385.78125pt\" xmlns=\"http://www.w3.org/2000/svg\" xmlns:xlink=\"http://www.w3.org/1999/xlink\">\n <metadata>\n  <rdf:RDF xmlns:cc=\"http://creativecommons.org/ns#\" xmlns:dc=\"http://purl.org/dc/elements/1.1/\" xmlns:rdf=\"http://www.w3.org/1999/02/22-rdf-syntax-ns#\">\n   <cc:Work>\n    <dc:type rdf:resource=\"http://purl.org/dc/dcmitype/StillImage\"/>\n    <dc:date>2020-10-21T19:36:06.938082</dc:date>\n    <dc:format>image/svg+xml</dc:format>\n    <dc:creator>\n     <cc:Agent>\n      <dc:title>Matplotlib v3.3.2, https://matplotlib.org/</dc:title>\n     </cc:Agent>\n    </dc:creator>\n   </cc:Work>\n  </rdf:RDF>\n </metadata>\n <defs>\n  <style type=\"text/css\">*{stroke-linecap:butt;stroke-linejoin:round;}</style>\n </defs>\n <g id=\"figure_1\">\n  <g id=\"patch_1\">\n   <path d=\"M 0 262.19625 \nL 385.78125 262.19625 \nL 385.78125 0 \nL 0 0 \nz\n\" style=\"fill:none;\"/>\n  </g>\n  <g id=\"axes_1\">\n   <g id=\"patch_2\">\n    <path d=\"M 43.78125 224.64 \nL 378.58125 224.64 \nL 378.58125 7.2 \nL 43.78125 7.2 \nz\n\" style=\"fill:#ffffff;\"/>\n   </g>\n   <g id=\"PolyCollection_1\">\n    <defs>\n     <path d=\"M 127.502417 -72.224016 \nL 127.460083 -72.224016 \nL 127.417284 -73.876288 \nL 127.316742 -75.52856 \nL 127.118295 -77.180832 \nL 126.786992 -78.833105 \nL 126.313087 -80.485377 \nL 125.716724 -82.137649 \nL 125.02299 -83.789921 \nL 124.223814 -85.442193 \nL 123.267079 -87.094465 \nL 122.088747 -88.746738 \nL 120.650475 -90.39901 \nL 118.940922 -92.051282 \nL 116.956491 -93.703554 \nL 114.703333 -95.355826 \nL 112.215498 -97.008098 \nL 109.548558 -98.660371 \nL 106.743829 -100.312643 \nL 103.809728 -101.964915 \nL 100.752985 -103.617187 \nL 97.618692 -105.269459 \nL 94.475259 -106.921731 \nL 91.363421 -108.574004 \nL 88.283524 -110.226276 \nL 85.228291 -111.878548 \nL 82.2118 -113.53082 \nL 79.280222 -115.183092 \nL 76.507103 -116.835365 \nL 73.962874 -118.487637 \nL 71.687508 -120.139909 \nL 69.702827 -121.792181 \nL 68.020119 -123.444453 \nL 66.605704 -125.096725 \nL 65.380303 -126.748998 \nL 64.295978 -128.40127 \nL 63.384772 -130.053542 \nL 62.710494 -131.705814 \nL 62.322735 -133.358086 \nL 62.283306 -135.010358 \nL 62.679526 -136.662631 \nL 63.56423 -138.314903 \nL 64.89087 -139.967175 \nL 66.505952 -141.619447 \nL 68.205392 -143.271719 \nL 69.85796 -144.923991 \nL 71.531728 -146.576264 \nL 73.482264 -148.228536 \nL 75.97142 -149.880808 \nL 79.072236 -151.53308 \nL 82.61542 -153.185352 \nL 86.284256 -154.837625 \nL 89.773875 -156.489897 \nL 92.922741 -158.142169 \nL 95.735251 -159.794441 \nL 98.282766 -161.446713 \nL 100.592301 -163.098985 \nL 102.652284 -164.751258 \nL 104.515133 -166.40353 \nL 106.342271 -168.055802 \nL 108.305348 -169.708074 \nL 110.43742 -171.360346 \nL 112.588284 -173.012618 \nL 114.527329 -174.664891 \nL 116.102636 -176.317163 \nL 117.327916 -177.969435 \nL 118.334587 -179.621707 \nL 119.244218 -181.273979 \nL 120.091159 -182.926251 \nL 120.859614 -184.578524 \nL 121.55584 -186.230796 \nL 122.211895 -187.883068 \nL 122.839893 -189.53534 \nL 123.421587 -191.187612 \nL 123.941392 -192.839885 \nL 124.405281 -194.492157 \nL 124.828292 -196.144429 \nL 125.22098 -197.796701 \nL 125.58657 -199.448973 \nL 125.917908 -201.101245 \nL 126.19869 -202.753518 \nL 126.417748 -204.40579 \nL 126.582065 -206.058062 \nL 126.710768 -207.710334 \nL 126.818319 -209.362606 \nL 126.908167 -211.014878 \nL 126.981067 -212.667151 \nL 127.043083 -214.319423 \nL 127.102335 -215.971695 \nL 127.16049 -217.623967 \nL 127.211276 -219.276239 \nL 127.248696 -220.928511 \nL 127.2752 -222.580784 \nL 127.299761 -224.233056 \nL 127.328898 -225.885328 \nL 127.362181 -227.5376 \nL 127.395492 -229.189872 \nL 127.425146 -230.842145 \nL 127.448741 -232.494417 \nL 127.465043 -234.146689 \nL 127.474466 -235.798961 \nL 127.488034 -235.798961 \nL 127.488034 -235.798961 \nL 127.497457 -234.146689 \nL 127.513759 -232.494417 \nL 127.537354 -230.842145 \nL 127.567008 -229.189872 \nL 127.600319 -227.5376 \nL 127.633602 -225.885328 \nL 127.662739 -224.233056 \nL 127.6873 -222.580784 \nL 127.713804 -220.928511 \nL 127.751224 -219.276239 \nL 127.80201 -217.623967 \nL 127.860165 -215.971695 \nL 127.919417 -214.319423 \nL 127.981433 -212.667151 \nL 128.054333 -211.014878 \nL 128.144181 -209.362606 \nL 128.251732 -207.710334 \nL 128.380435 -206.058062 \nL 128.544752 -204.40579 \nL 128.76381 -202.753518 \nL 129.044592 -201.101245 \nL 129.37593 -199.448973 \nL 129.74152 -197.796701 \nL 130.134208 -196.144429 \nL 130.557219 -194.492157 \nL 131.021108 -192.839885 \nL 131.540913 -191.187612 \nL 132.122607 -189.53534 \nL 132.750605 -187.883068 \nL 133.40666 -186.230796 \nL 134.102886 -184.578524 \nL 134.871341 -182.926251 \nL 135.718282 -181.273979 \nL 136.627913 -179.621707 \nL 137.634584 -177.969435 \nL 138.859864 -176.317163 \nL 140.435171 -174.664891 \nL 142.374216 -173.012618 \nL 144.52508 -171.360346 \nL 146.657152 -169.708074 \nL 148.620229 -168.055802 \nL 150.447367 -166.40353 \nL 152.310216 -164.751258 \nL 154.370199 -163.098985 \nL 156.679734 -161.446713 \nL 159.227249 -159.794441 \nL 162.039759 -158.142169 \nL 165.188625 -156.489897 \nL 168.678244 -154.837625 \nL 172.34708 -153.185352 \nL 175.890264 -151.53308 \nL 178.99108 -149.880808 \nL 181.480236 -148.228536 \nL 183.430772 -146.576264 \nL 185.10454 -144.923991 \nL 186.757108 -143.271719 \nL 188.456548 -141.619447 \nL 190.07163 -139.967175 \nL 191.39827 -138.314903 \nL 192.282974 -136.662631 \nL 192.679194 -135.010358 \nL 192.639765 -133.358086 \nL 192.252006 -131.705814 \nL 191.577728 -130.053542 \nL 190.666522 -128.40127 \nL 189.582197 -126.748998 \nL 188.356796 -125.096725 \nL 186.942381 -123.444453 \nL 185.259673 -121.792181 \nL 183.274992 -120.139909 \nL 180.999626 -118.487637 \nL 178.455397 -116.835365 \nL 175.682278 -115.183092 \nL 172.7507 -113.53082 \nL 169.734209 -111.878548 \nL 166.678976 -110.226276 \nL 163.599079 -108.574004 \nL 160.487241 -106.921731 \nL 157.343808 -105.269459 \nL 154.209515 -103.617187 \nL 151.152772 -101.964915 \nL 148.218671 -100.312643 \nL 145.413942 -98.660371 \nL 142.747002 -97.008098 \nL 140.259167 -95.355826 \nL 138.006009 -93.703554 \nL 136.021578 -92.051282 \nL 134.312025 -90.39901 \nL 132.873753 -88.746738 \nL 131.695421 -87.094465 \nL 130.738686 -85.442193 \nL 129.93951 -83.789921 \nL 129.245776 -82.137649 \nL 128.649413 -80.485377 \nL 128.175508 -78.833105 \nL 127.844205 -77.180832 \nL 127.645758 -75.52856 \nL 127.545216 -73.876288 \nL 127.502417 -72.224016 \nz\n\" id=\"md49129bef1\" style=\"stroke:#3f3f3f;stroke-width:1.5;\"/>\n    </defs>\n    <g clip-path=\"url(#p690dc45a81)\">\n     <use style=\"fill:#3274a1;stroke:#3f3f3f;stroke-width:1.5;\" x=\"0\" xlink:href=\"#md49129bef1\" y=\"262.19625\"/>\n    </g>\n   </g>\n   <g id=\"PolyCollection_2\">\n    <defs>\n     <path d=\"M 294.882164 -47.439886 \nL 294.880336 -47.439886 \nL 294.877402 -49.436581 \nL 294.874542 -51.433275 \nL 294.876383 -53.429969 \nL 294.879412 -55.426663 \nL 294.878704 -57.423357 \nL 294.875307 -59.420052 \nL 294.875087 -61.416746 \nL 294.8786 -63.41344 \nL 294.880764 -65.410134 \nL 294.880909 -67.406829 \nL 294.878065 -69.403523 \nL 294.864533 -71.400217 \nL 294.83329 -73.396911 \nL 294.794642 -75.393605 \nL 294.744263 -77.3903 \nL 294.627614 -79.386994 \nL 294.429148 -81.383688 \nL 294.162723 -83.380382 \nL 293.730904 -85.377076 \nL 293.104979 -87.373771 \nL 292.399947 -89.370465 \nL 291.618633 -91.367159 \nL 290.575673 -93.363853 \nL 289.203864 -95.360548 \nL 287.739823 -97.357242 \nL 286.284597 -99.353936 \nL 284.607686 -101.35063 \nL 282.527974 -103.347324 \nL 280.161276 -105.344019 \nL 277.775671 -107.340713 \nL 275.196992 -109.337407 \nL 272.288986 -111.334101 \nL 269.497032 -113.330795 \nL 267.03707 -115.32749 \nL 264.491173 -117.324184 \nL 261.415455 -119.320878 \nL 258.258548 -121.317572 \nL 255.496379 -123.314267 \nL 253.012655 -125.310961 \nL 250.434535 -127.307655 \nL 247.346909 -129.304349 \nL 244.048165 -131.301043 \nL 241.20676 -133.297738 \nL 238.750041 -135.294432 \nL 236.189923 -137.291126 \nL 233.690193 -139.28782 \nL 231.626765 -141.284514 \nL 230.121656 -143.281209 \nL 229.012762 -145.277903 \nL 228.165906 -147.274597 \nL 227.92125 -149.271291 \nL 228.513353 -151.267986 \nL 229.77372 -153.26468 \nL 231.474462 -155.261374 \nL 233.952124 -157.258068 \nL 237.538491 -159.254762 \nL 241.338073 -161.251457 \nL 244.595004 -163.248151 \nL 247.729253 -165.244845 \nL 251.388916 -167.241539 \nL 255.541094 -169.238233 \nL 259.549728 -171.234928 \nL 263.368672 -173.231622 \nL 267.029529 -175.228316 \nL 270.618272 -177.22501 \nL 274.265712 -179.221705 \nL 277.76513 -181.218399 \nL 281.035585 -183.215093 \nL 284.086622 -185.211787 \nL 286.65211 -187.208481 \nL 288.617755 -189.205176 \nL 290.077107 -191.20187 \nL 291.153603 -193.198564 \nL 292.014463 -195.195258 \nL 292.771676 -197.191952 \nL 293.375488 -199.188647 \nL 293.741352 -201.185341 \nL 293.947921 -203.182035 \nL 294.105652 -205.178729 \nL 294.198286 -207.175424 \nL 294.276901 -209.172118 \nL 294.406562 -211.168812 \nL 294.526803 -213.165506 \nL 294.601331 -215.1622 \nL 294.661609 -217.158895 \nL 294.737482 -219.155589 \nL 294.796003 -221.152283 \nL 294.805337 -223.148977 \nL 294.792508 -225.145671 \nL 294.798742 -227.142366 \nL 294.828606 -229.13906 \nL 294.858264 -231.135754 \nL 294.86695 -233.132448 \nL 294.866689 -235.129143 \nL 294.86699 -237.125837 \nL 294.858313 -239.122531 \nL 294.855159 -241.119225 \nL 294.868118 -243.115919 \nL 294.878473 -245.112614 \nL 294.884027 -245.112614 \nL 294.884027 -245.112614 \nL 294.894382 -243.115919 \nL 294.907341 -241.119225 \nL 294.904187 -239.122531 \nL 294.89551 -237.125837 \nL 294.895811 -235.129143 \nL 294.89555 -233.132448 \nL 294.904236 -231.135754 \nL 294.933894 -229.13906 \nL 294.963758 -227.142366 \nL 294.969992 -225.145671 \nL 294.957163 -223.148977 \nL 294.966497 -221.152283 \nL 295.025018 -219.155589 \nL 295.100891 -217.158895 \nL 295.161169 -215.1622 \nL 295.235697 -213.165506 \nL 295.355938 -211.168812 \nL 295.485599 -209.172118 \nL 295.564214 -207.175424 \nL 295.656848 -205.178729 \nL 295.814579 -203.182035 \nL 296.021148 -201.185341 \nL 296.387012 -199.188647 \nL 296.990824 -197.191952 \nL 297.748037 -195.195258 \nL 298.608897 -193.198564 \nL 299.685393 -191.20187 \nL 301.144745 -189.205176 \nL 303.11039 -187.208481 \nL 305.675878 -185.211787 \nL 308.726915 -183.215093 \nL 311.99737 -181.218399 \nL 315.496788 -179.221705 \nL 319.144228 -177.22501 \nL 322.732971 -175.228316 \nL 326.393828 -173.231622 \nL 330.212772 -171.234928 \nL 334.221406 -169.238233 \nL 338.373584 -167.241539 \nL 342.033247 -165.244845 \nL 345.167496 -163.248151 \nL 348.424427 -161.251457 \nL 352.224009 -159.254762 \nL 355.810376 -157.258068 \nL 358.288038 -155.261374 \nL 359.98878 -153.26468 \nL 361.249147 -151.267986 \nL 361.84125 -149.271291 \nL 361.596594 -147.274597 \nL 360.749738 -145.277903 \nL 359.640844 -143.281209 \nL 358.135735 -141.284514 \nL 356.072307 -139.28782 \nL 353.572577 -137.291126 \nL 351.012459 -135.294432 \nL 348.55574 -133.297738 \nL 345.714335 -131.301043 \nL 342.415591 -129.304349 \nL 339.327965 -127.307655 \nL 336.749845 -125.310961 \nL 334.266121 -123.314267 \nL 331.503952 -121.317572 \nL 328.347045 -119.320878 \nL 325.271327 -117.324184 \nL 322.72543 -115.32749 \nL 320.265468 -113.330795 \nL 317.473514 -111.334101 \nL 314.565508 -109.337407 \nL 311.986829 -107.340713 \nL 309.601224 -105.344019 \nL 307.234526 -103.347324 \nL 305.154814 -101.35063 \nL 303.477903 -99.353936 \nL 302.022677 -97.357242 \nL 300.558636 -95.360548 \nL 299.186827 -93.363853 \nL 298.143867 -91.367159 \nL 297.362553 -89.370465 \nL 296.657521 -87.373771 \nL 296.031596 -85.377076 \nL 295.599777 -83.380382 \nL 295.333352 -81.383688 \nL 295.134886 -79.386994 \nL 295.018237 -77.3903 \nL 294.967858 -75.393605 \nL 294.92921 -73.396911 \nL 294.897967 -71.400217 \nL 294.884435 -69.403523 \nL 294.881591 -67.406829 \nL 294.881736 -65.410134 \nL 294.8839 -63.41344 \nL 294.887413 -61.416746 \nL 294.887193 -59.420052 \nL 294.883796 -57.423357 \nL 294.883088 -55.426663 \nL 294.886117 -53.429969 \nL 294.887958 -51.433275 \nL 294.885098 -49.436581 \nL 294.882164 -47.439886 \nz\n\" id=\"mff89c75ab2\" style=\"stroke:#3f3f3f;stroke-width:1.5;\"/>\n    </defs>\n    <g clip-path=\"url(#p690dc45a81)\">\n     <use style=\"fill:#e1812c;stroke:#3f3f3f;stroke-width:1.5;\" x=\"0\" xlink:href=\"#mff89c75ab2\" y=\"262.19625\"/>\n    </g>\n   </g>\n   <g id=\"matplotlib.axis_1\">\n    <g id=\"xtick_1\">\n     <g id=\"line2d_1\">\n      <defs>\n       <path d=\"M 0 0 \nL 0 3.5 \n\" id=\"md6fde8a260\" style=\"stroke:#000000;stroke-width:0.8;\"/>\n      </defs>\n      <g>\n       <use style=\"stroke:#000000;stroke-width:0.8;\" x=\"127.48125\" xlink:href=\"#md6fde8a260\" y=\"224.64\"/>\n      </g>\n     </g>\n     <g id=\"text_1\">\n      <!-- 0 -->\n      <g transform=\"translate(124.3 239.238437)scale(0.1 -0.1)\">\n       <defs>\n        <path d=\"M 31.78125 66.40625 \nQ 24.171875 66.40625 20.328125 58.90625 \nQ 16.5 51.421875 16.5 36.375 \nQ 16.5 21.390625 20.328125 13.890625 \nQ 24.171875 6.390625 31.78125 6.390625 \nQ 39.453125 6.390625 43.28125 13.890625 \nQ 47.125 21.390625 47.125 36.375 \nQ 47.125 51.421875 43.28125 58.90625 \nQ 39.453125 66.40625 31.78125 66.40625 \nz\nM 31.78125 74.21875 \nQ 44.046875 74.21875 50.515625 64.515625 \nQ 56.984375 54.828125 56.984375 36.375 \nQ 56.984375 17.96875 50.515625 8.265625 \nQ 44.046875 -1.421875 31.78125 -1.421875 \nQ 19.53125 -1.421875 13.0625 8.265625 \nQ 6.59375 17.96875 6.59375 36.375 \nQ 6.59375 54.828125 13.0625 64.515625 \nQ 19.53125 74.21875 31.78125 74.21875 \nz\n\" id=\"DejaVuSans-48\"/>\n       </defs>\n       <use xlink:href=\"#DejaVuSans-48\"/>\n      </g>\n     </g>\n    </g>\n    <g id=\"xtick_2\">\n     <g id=\"line2d_2\">\n      <g>\n       <use style=\"stroke:#000000;stroke-width:0.8;\" x=\"294.88125\" xlink:href=\"#md6fde8a260\" y=\"224.64\"/>\n      </g>\n     </g>\n     <g id=\"text_2\">\n      <!-- 1 -->\n      <g transform=\"translate(291.7 239.238437)scale(0.1 -0.1)\">\n       <defs>\n        <path d=\"M 12.40625 8.296875 \nL 28.515625 8.296875 \nL 28.515625 63.921875 \nL 10.984375 60.40625 \nL 10.984375 69.390625 \nL 28.421875 72.90625 \nL 38.28125 72.90625 \nL 38.28125 8.296875 \nL 54.390625 8.296875 \nL 54.390625 0 \nL 12.40625 0 \nz\n\" id=\"DejaVuSans-49\"/>\n       </defs>\n       <use xlink:href=\"#DejaVuSans-49\"/>\n      </g>\n     </g>\n    </g>\n    <g id=\"text_3\">\n     <!-- x -->\n     <g transform=\"translate(208.221875 252.916562)scale(0.1 -0.1)\">\n      <defs>\n       <path d=\"M 54.890625 54.6875 \nL 35.109375 28.078125 \nL 55.90625 0 \nL 45.3125 0 \nL 29.390625 21.484375 \nL 13.484375 0 \nL 2.875 0 \nL 24.125 28.609375 \nL 4.6875 54.6875 \nL 15.28125 54.6875 \nL 29.78125 35.203125 \nL 44.28125 54.6875 \nz\n\" id=\"DejaVuSans-120\"/>\n      </defs>\n      <use xlink:href=\"#DejaVuSans-120\"/>\n     </g>\n    </g>\n   </g>\n   <g id=\"matplotlib.axis_2\">\n    <g id=\"ytick_1\">\n     <g id=\"line2d_3\">\n      <defs>\n       <path d=\"M 0 0 \nL -3.5 0 \n\" id=\"m21e8d42af4\" style=\"stroke:#000000;stroke-width:0.8;\"/>\n      </defs>\n      <g>\n       <use style=\"stroke:#000000;stroke-width:0.8;\" x=\"43.78125\" xlink:href=\"#m21e8d42af4\" y=\"184.434897\"/>\n      </g>\n     </g>\n     <g id=\"text_4\">\n      <!-- 0.2 -->\n      <g transform=\"translate(20.878125 188.234116)scale(0.1 -0.1)\">\n       <defs>\n        <path d=\"M 10.6875 12.40625 \nL 21 12.40625 \nL 21 0 \nL 10.6875 0 \nz\n\" id=\"DejaVuSans-46\"/>\n        <path d=\"M 19.1875 8.296875 \nL 53.609375 8.296875 \nL 53.609375 0 \nL 7.328125 0 \nL 7.328125 8.296875 \nQ 12.9375 14.109375 22.625 23.890625 \nQ 32.328125 33.6875 34.8125 36.53125 \nQ 39.546875 41.84375 41.421875 45.53125 \nQ 43.3125 49.21875 43.3125 52.78125 \nQ 43.3125 58.59375 39.234375 62.25 \nQ 35.15625 65.921875 28.609375 65.921875 \nQ 23.96875 65.921875 18.8125 64.3125 \nQ 13.671875 62.703125 7.8125 59.421875 \nL 7.8125 69.390625 \nQ 13.765625 71.78125 18.9375 73 \nQ 24.125 74.21875 28.421875 74.21875 \nQ 39.75 74.21875 46.484375 68.546875 \nQ 53.21875 62.890625 53.21875 53.421875 \nQ 53.21875 48.921875 51.53125 44.890625 \nQ 49.859375 40.875 45.40625 35.40625 \nQ 44.1875 33.984375 37.640625 27.21875 \nQ 31.109375 20.453125 19.1875 8.296875 \nz\n\" id=\"DejaVuSans-50\"/>\n       </defs>\n       <use xlink:href=\"#DejaVuSans-48\"/>\n       <use x=\"63.623047\" xlink:href=\"#DejaVuSans-46\"/>\n       <use x=\"95.410156\" xlink:href=\"#DejaVuSans-50\"/>\n      </g>\n     </g>\n    </g>\n    <g id=\"ytick_2\">\n     <g id=\"line2d_4\">\n      <g>\n       <use style=\"stroke:#000000;stroke-width:0.8;\" x=\"43.78125\" xlink:href=\"#m21e8d42af4\" y=\"142.356363\"/>\n      </g>\n     </g>\n     <g id=\"text_5\">\n      <!-- 0.4 -->\n      <g transform=\"translate(20.878125 146.155581)scale(0.1 -0.1)\">\n       <defs>\n        <path d=\"M 37.796875 64.3125 \nL 12.890625 25.390625 \nL 37.796875 25.390625 \nz\nM 35.203125 72.90625 \nL 47.609375 72.90625 \nL 47.609375 25.390625 \nL 58.015625 25.390625 \nL 58.015625 17.1875 \nL 47.609375 17.1875 \nL 47.609375 0 \nL 37.796875 0 \nL 37.796875 17.1875 \nL 4.890625 17.1875 \nL 4.890625 26.703125 \nz\n\" id=\"DejaVuSans-52\"/>\n       </defs>\n       <use xlink:href=\"#DejaVuSans-48\"/>\n       <use x=\"63.623047\" xlink:href=\"#DejaVuSans-46\"/>\n       <use x=\"95.410156\" xlink:href=\"#DejaVuSans-52\"/>\n      </g>\n     </g>\n    </g>\n    <g id=\"ytick_3\">\n     <g id=\"line2d_5\">\n      <g>\n       <use style=\"stroke:#000000;stroke-width:0.8;\" x=\"43.78125\" xlink:href=\"#m21e8d42af4\" y=\"100.277828\"/>\n      </g>\n     </g>\n     <g id=\"text_6\">\n      <!-- 0.6 -->\n      <g transform=\"translate(20.878125 104.077047)scale(0.1 -0.1)\">\n       <defs>\n        <path d=\"M 33.015625 40.375 \nQ 26.375 40.375 22.484375 35.828125 \nQ 18.609375 31.296875 18.609375 23.390625 \nQ 18.609375 15.53125 22.484375 10.953125 \nQ 26.375 6.390625 33.015625 6.390625 \nQ 39.65625 6.390625 43.53125 10.953125 \nQ 47.40625 15.53125 47.40625 23.390625 \nQ 47.40625 31.296875 43.53125 35.828125 \nQ 39.65625 40.375 33.015625 40.375 \nz\nM 52.59375 71.296875 \nL 52.59375 62.3125 \nQ 48.875 64.0625 45.09375 64.984375 \nQ 41.3125 65.921875 37.59375 65.921875 \nQ 27.828125 65.921875 22.671875 59.328125 \nQ 17.53125 52.734375 16.796875 39.40625 \nQ 19.671875 43.65625 24.015625 45.921875 \nQ 28.375 48.1875 33.59375 48.1875 \nQ 44.578125 48.1875 50.953125 41.515625 \nQ 57.328125 34.859375 57.328125 23.390625 \nQ 57.328125 12.15625 50.6875 5.359375 \nQ 44.046875 -1.421875 33.015625 -1.421875 \nQ 20.359375 -1.421875 13.671875 8.265625 \nQ 6.984375 17.96875 6.984375 36.375 \nQ 6.984375 53.65625 15.1875 63.9375 \nQ 23.390625 74.21875 37.203125 74.21875 \nQ 40.921875 74.21875 44.703125 73.484375 \nQ 48.484375 72.75 52.59375 71.296875 \nz\n\" id=\"DejaVuSans-54\"/>\n       </defs>\n       <use xlink:href=\"#DejaVuSans-48\"/>\n       <use x=\"63.623047\" xlink:href=\"#DejaVuSans-46\"/>\n       <use x=\"95.410156\" xlink:href=\"#DejaVuSans-54\"/>\n      </g>\n     </g>\n    </g>\n    <g id=\"ytick_4\">\n     <g id=\"line2d_6\">\n      <g>\n       <use style=\"stroke:#000000;stroke-width:0.8;\" x=\"43.78125\" xlink:href=\"#m21e8d42af4\" y=\"58.199294\"/>\n      </g>\n     </g>\n     <g id=\"text_7\">\n      <!-- 0.8 -->\n      <g transform=\"translate(20.878125 61.998513)scale(0.1 -0.1)\">\n       <defs>\n        <path d=\"M 31.78125 34.625 \nQ 24.75 34.625 20.71875 30.859375 \nQ 16.703125 27.09375 16.703125 20.515625 \nQ 16.703125 13.921875 20.71875 10.15625 \nQ 24.75 6.390625 31.78125 6.390625 \nQ 38.8125 6.390625 42.859375 10.171875 \nQ 46.921875 13.96875 46.921875 20.515625 \nQ 46.921875 27.09375 42.890625 30.859375 \nQ 38.875 34.625 31.78125 34.625 \nz\nM 21.921875 38.8125 \nQ 15.578125 40.375 12.03125 44.71875 \nQ 8.5 49.078125 8.5 55.328125 \nQ 8.5 64.0625 14.71875 69.140625 \nQ 20.953125 74.21875 31.78125 74.21875 \nQ 42.671875 74.21875 48.875 69.140625 \nQ 55.078125 64.0625 55.078125 55.328125 \nQ 55.078125 49.078125 51.53125 44.71875 \nQ 48 40.375 41.703125 38.8125 \nQ 48.828125 37.15625 52.796875 32.3125 \nQ 56.78125 27.484375 56.78125 20.515625 \nQ 56.78125 9.90625 50.3125 4.234375 \nQ 43.84375 -1.421875 31.78125 -1.421875 \nQ 19.734375 -1.421875 13.25 4.234375 \nQ 6.78125 9.90625 6.78125 20.515625 \nQ 6.78125 27.484375 10.78125 32.3125 \nQ 14.796875 37.15625 21.921875 38.8125 \nz\nM 18.3125 54.390625 \nQ 18.3125 48.734375 21.84375 45.5625 \nQ 25.390625 42.390625 31.78125 42.390625 \nQ 38.140625 42.390625 41.71875 45.5625 \nQ 45.3125 48.734375 45.3125 54.390625 \nQ 45.3125 60.0625 41.71875 63.234375 \nQ 38.140625 66.40625 31.78125 66.40625 \nQ 25.390625 66.40625 21.84375 63.234375 \nQ 18.3125 60.0625 18.3125 54.390625 \nz\n\" id=\"DejaVuSans-56\"/>\n       </defs>\n       <use xlink:href=\"#DejaVuSans-48\"/>\n       <use x=\"63.623047\" xlink:href=\"#DejaVuSans-46\"/>\n       <use x=\"95.410156\" xlink:href=\"#DejaVuSans-56\"/>\n      </g>\n     </g>\n    </g>\n    <g id=\"ytick_5\">\n     <g id=\"line2d_7\">\n      <g>\n       <use style=\"stroke:#000000;stroke-width:0.8;\" x=\"43.78125\" xlink:href=\"#m21e8d42af4\" y=\"16.120759\"/>\n      </g>\n     </g>\n     <g id=\"text_8\">\n      <!-- 1.0 -->\n      <g transform=\"translate(20.878125 19.919978)scale(0.1 -0.1)\">\n       <use xlink:href=\"#DejaVuSans-49\"/>\n       <use x=\"63.623047\" xlink:href=\"#DejaVuSans-46\"/>\n       <use x=\"95.410156\" xlink:href=\"#DejaVuSans-48\"/>\n      </g>\n     </g>\n    </g>\n    <g id=\"text_9\">\n     <!-- y -->\n     <g transform=\"translate(14.798438 118.879375)rotate(-90)scale(0.1 -0.1)\">\n      <defs>\n       <path d=\"M 32.171875 -5.078125 \nQ 28.375 -14.84375 24.75 -17.8125 \nQ 21.140625 -20.796875 15.09375 -20.796875 \nL 7.90625 -20.796875 \nL 7.90625 -13.28125 \nL 13.1875 -13.28125 \nQ 16.890625 -13.28125 18.9375 -11.515625 \nQ 21 -9.765625 23.484375 -3.21875 \nL 25.09375 0.875 \nL 2.984375 54.6875 \nL 12.5 54.6875 \nL 29.59375 11.921875 \nL 46.6875 54.6875 \nL 56.203125 54.6875 \nz\n\" id=\"DejaVuSans-121\"/>\n      </defs>\n      <use xlink:href=\"#DejaVuSans-121\"/>\n     </g>\n    </g>\n   </g>\n   <g id=\"line2d_8\">\n    <path clip-path=\"url(#p690dc45a81)\" d=\"M 127.48125 182.839626 \nL 127.48125 68.136566 \n\" style=\"fill:none;stroke:#3f3f3f;stroke-linecap:square;stroke-width:1.5;\"/>\n   </g>\n   <g id=\"line2d_9\">\n    <path clip-path=\"url(#p690dc45a81)\" d=\"M 127.48125 142.424629 \nL 127.48125 112.69942 \n\" style=\"fill:none;stroke:#3f3f3f;stroke-linecap:square;stroke-width:4.5;\"/>\n   </g>\n   <g id=\"line2d_10\">\n    <path clip-path=\"url(#p690dc45a81)\" d=\"M 294.88125 176.295312 \nL 294.88125 57.956094 \n\" style=\"fill:none;stroke:#3f3f3f;stroke-linecap:square;stroke-width:1.5;\"/>\n   </g>\n   <g id=\"line2d_11\">\n    <path clip-path=\"url(#p690dc45a81)\" d=\"M 294.88125 131.900827 \nL 294.88125 102.30222 \n\" style=\"fill:none;stroke:#3f3f3f;stroke-linecap:square;stroke-width:4.5;\"/>\n   </g>\n   <g id=\"patch_3\">\n    <path d=\"M 43.78125 224.64 \nL 43.78125 7.2 \n\" style=\"fill:none;stroke:#000000;stroke-linecap:square;stroke-linejoin:miter;stroke-width:0.8;\"/>\n   </g>\n   <g id=\"patch_4\">\n    <path d=\"M 378.58125 224.64 \nL 378.58125 7.2 \n\" style=\"fill:none;stroke:#000000;stroke-linecap:square;stroke-linejoin:miter;stroke-width:0.8;\"/>\n   </g>\n   <g id=\"patch_5\">\n    <path d=\"M 43.78125 224.64 \nL 378.58125 224.64 \n\" style=\"fill:none;stroke:#000000;stroke-linecap:square;stroke-linejoin:miter;stroke-width:0.8;\"/>\n   </g>\n   <g id=\"patch_6\">\n    <path d=\"M 43.78125 7.2 \nL 378.58125 7.2 \n\" style=\"fill:none;stroke:#000000;stroke-linecap:square;stroke-linejoin:miter;stroke-width:0.8;\"/>\n   </g>\n   <g id=\"PathCollection_1\">\n    <defs>\n     <path d=\"M 0 1.5 \nC 0.397805 1.5 0.77937 1.341951 1.06066 1.06066 \nC 1.341951 0.77937 1.5 0.397805 1.5 0 \nC 1.5 -0.397805 1.341951 -0.77937 1.06066 -1.06066 \nC 0.77937 -1.341951 0.397805 -1.5 0 -1.5 \nC -0.397805 -1.5 -0.77937 -1.341951 -1.06066 -1.06066 \nC -1.341951 -0.77937 -1.5 -0.397805 -1.5 0 \nC -1.5 0.397805 -1.341951 0.77937 -1.06066 1.06066 \nC -0.77937 1.341951 -0.397805 1.5 0 1.5 \nz\n\" id=\"mcd38c9552e\" style=\"stroke:#3f3f3f;\"/>\n    </defs>\n    <g clip-path=\"url(#p690dc45a81)\">\n     <use style=\"fill:#ffffff;stroke:#3f3f3f;\" x=\"127.48125\" xlink:href=\"#mcd38c9552e\" y=\"127.640617\"/>\n    </g>\n   </g>\n   <g id=\"PathCollection_2\">\n    <g clip-path=\"url(#p690dc45a81)\">\n     <use style=\"fill:#ffffff;stroke:#3f3f3f;\" x=\"294.88125\" xlink:href=\"#mcd38c9552e\" y=\"116.441175\"/>\n    </g>\n   </g>\n  </g>\n </g>\n <defs>\n  <clipPath id=\"p690dc45a81\">\n   <rect height=\"217.44\" width=\"334.8\" x=\"43.78125\" y=\"7.2\"/>\n  </clipPath>\n </defs>\n</svg>\n",
      "image/png": "[encoded data removed]"
     },
     "metadata": {
      "needs_background": "light"
     }
    }
   ],
   "source": [
    "# Plot violin plot to have an idea of the class separations\n",
    "probs_train = model.predict_proba(X_train)\n",
    "\n",
    "plot_df = pd.DataFrame({\"x\": y_train, \"y\": probs_train[:, 1]})\n",
    "sns.violinplot(data=plot_df, y=\"y\", x=\"x\")"
   ]
  },
  {
   "source": [
    "not so well separated...."
   ],
   "cell_type": "markdown",
   "metadata": {}
  },
  {
   "source": [
    "makeIs it perhaps better to scale the featues...it should not make much difference"
   ],
   "cell_type": "markdown",
   "metadata": {}
  },
  {
   "cell_type": "code",
   "execution_count": 11,
   "metadata": {},
   "outputs": [
    {
     "output_type": "stream",
     "name": "stdout",
     "text": [
      "Plain model score:  [0.6209617  0.63420595 0.63721765 0.61942091 0.62792782]\n",
      "mean test score:  0.6279468056183093\n",
      "mean train score:  0.6290262332753433\n",
      "Plain model score:  [0.62446693 0.63467073 0.63653134 0.62237285 0.62791895]\n",
      "mean test score:  0.6291921590358154\n",
      "mean train score:  0.6301451014114601\n",
      "Plain model score:  [0.65967257 0.66200751 0.66152603 0.64604134 0.65692265]\n",
      "mean test score:  0.6572340188078074\n",
      "mean train score:  0.6601480778066949\n"
     ]
    }
   ],
   "source": [
    "# K fold cross validation performace of model with no scaling\n",
    "model_1 = linear_model.LogisticRegression(random_state=314, max_iter=100, class_weight=\"balanced\")\n",
    "result = model_selection.cross_validate(model_1, X_train, y_train, cv=5, scoring=\"roc_auc\", return_train_score=True)\n",
    "print(\"Plain model score: \", result[\"test_score\"])\n",
    "print(\"mean test score: \", np.mean(result[\"test_score\"]))\n",
    "print(\"mean train score: \", np.mean(result[\"train_score\"]))\n",
    "\n",
    "# K fold cross validation performace of model with scaling\n",
    "model_2 = pipeline.Pipeline( [(\"scaler\", preprocessing.StandardScaler()), (\"predictor\", model_1)] )\n",
    "result = model_selection.cross_validate(model_2, X_train, y_train, cv=5, scoring=\"roc_auc\", return_train_score=True)\n",
    "print(\"Plain model score: \", result[\"test_score\"])\n",
    "print(\"mean test score: \", np.mean(result[\"test_score\"]))\n",
    "print(\"mean train score: \", np.mean(result[\"train_score\"]))\n",
    "\n",
    "\n",
    "# K fold cross validation performace of model with one hot encoding of day of week\n",
    "compose_scaler = compose.ColumnTransformer( [(\"scaler\", preprocessing.StandardScaler(), ['to_user_distance', 'to_user_elevation', 'total_earning', 'time_of_day'])],\n",
    "                                                        remainder=\"passthrough\")\n",
    "\n",
    "compose_encoder = compose.ColumnTransformer( [(\"encoder\", preprocessing.OneHotEncoder(), [4, 5])],\n",
    "                                             remainder=\"passthrough\")\n",
    "\n",
    "model_3 = pipeline.Pipeline( [  (\"scaler\", compose_scaler), \n",
    "                                (\"encoder\", compose_encoder), \n",
    "                                (\"predictor\", model_1)] )\n",
    "\n",
    "result = model_selection.cross_validate(model_3, X_train, y_train, cv=5, scoring=\"roc_auc\", return_train_score=True)\n",
    "print(\"Plain model score: \", result[\"test_score\"])\n",
    "print(\"mean test score: \", np.mean(result[\"test_score\"]))\n",
    "print(\"mean train score: \", np.mean(result[\"train_score\"]))\n"
   ]
  },
  {
   "source": [
    "\n",
    "Train and validation are pretty close...no overfitting\n",
    "\n",
    "Scaling increments performance a bit, one hot encoding is better than encondig the day_of_week/month with a number"
   ],
   "cell_type": "markdown",
   "metadata": {}
  },
  {
   "source": [
    "#### Add popular store info..."
   ],
   "cell_type": "markdown",
   "metadata": {}
  },
  {
   "cell_type": "code",
   "execution_count": 13,
   "metadata": {},
   "outputs": [],
   "source": [
    "# In this cell we want to compute if a store is popular, in the sense that many orders are taken for that store\n",
    "# We compute the probability of taken for the store ids\n",
    "# This probability is only reliable if we have enough data for that particular store\n",
    "# We define a store to be popular if:\n",
    "#     (number_data_points(store_id) > th1) and (prob_taken(store_id) > th2\n",
    "# We define a store to be un_popular if:\n",
    "#     (number_data_points(store_id) > th1) and (prob_taken(store_id) < th3\n",
    "# If a store is not popular or unpopular the it is undefined\n",
    "\n",
    "aux = orders_df.copy()\n",
    "\n",
    "# Add columns \"is_taken\" and \"not_taken\"\n",
    "aux[\"is_taken\"] = (aux[\"taken\"] == 1) \n",
    "aux[\"not_taken\"] = (aux[\"taken\"] == 0)\n",
    "\n",
    "# Group by store_id and sum the number of taken, is_taken and not_taken\n",
    "aux = aux.groupby(\"store_id\").agg(\"sum\")[[\"taken\", \"is_taken\", \"not_taken\"]]\n",
    "\n",
    "# Total orders is just the sum of taken and not taken\n",
    "aux[\"total_orders\"] = (aux[\"is_taken\"] + aux[\"not_taken\"])\n",
    "\n",
    "# The store rating is its propability of taken\n",
    "aux[\"rating\"] = aux[\"is_taken\"] / aux[\"total_orders\"] \n",
    "aux = aux.sort_values(\"rating\", ascending=False)\n",
    "\n",
    "# Create the popularity column\n",
    "aux[\"popularity\"] = 0\n",
    "\n",
    "th1 = 50\n",
    "th2 = 0.66\n",
    "th3 = 0.33\n",
    "filter_popular = (aux[\"total_orders\"] > th1) & (aux[\"rating\"] > th2)\n",
    "filter_unpopular = (aux[\"total_orders\"] > th1) & (aux[\"rating\"] < th3)\n",
    "\n",
    "aux.loc[filter_popular, \"popularity\"] = 1\n",
    "aux.loc[filter_unpopular, \"popularity\"] = -1\n",
    "\n",
    "# Get the popular stores\n",
    "popular_store_ids = aux.loc[ aux[\"popularity\"] == 1].index\n",
    "popular_stores_ids = list(popular_store_ids)\n"
   ]
  },
  {
   "cell_type": "code",
   "execution_count": 14,
   "metadata": {},
   "outputs": [],
   "source": [
    "X_train_popular = X_train.copy()\n",
    "X_train_popular[\"store_id\"] = orders_df.loc[X_train_popular.index, \"store_id\"]\n",
    "X_train_popular[\"popular_store\"] = X_train_popular.apply( lambda row: 1 if (row.store_id in popular_store_ids) else 0, axis=1 )\n",
    "X_train_popular.drop(columns=\"store_id\", inplace=True)"
   ]
  },
  {
   "cell_type": "code",
   "execution_count": 15,
   "metadata": {},
   "outputs": [
    {
     "output_type": "stream",
     "name": "stdout",
     "text": [
      "Plain model score:  [0.66445396 0.66670873 0.66753874 0.65458922 0.66525971]\nmean test score:  0.6637100720182904\nmean train score:  0.666584167353309\n"
     ]
    }
   ],
   "source": [
    "# K fold cross validation performace of model with one hot encoding of day of week\n",
    "compose_scaler = compose.ColumnTransformer( [(\"scaler\", preprocessing.StandardScaler(), ['to_user_distance', 'to_user_elevation', 'total_earning', 'time_of_day'])],\n",
    "                                                        remainder=\"passthrough\")\n",
    "\n",
    "compose_encoder = compose.ColumnTransformer( [(\"encoder\", preprocessing.OneHotEncoder(), [4, 5])],\n",
    "                                             remainder=\"passthrough\")\n",
    "\n",
    "model_3 = pipeline.Pipeline( [  (\"scaler\", compose_scaler), \n",
    "                                (\"encoder\", compose_encoder), \n",
    "                                (\"predictor\", model_1)] )\n",
    "\n",
    "result = model_selection.cross_validate(model_3, X_train_popular, y_train, cv=5, scoring=\"roc_auc\", return_train_score=True)\n",
    "print(\"Plain model score: \", result[\"test_score\"])\n",
    "print(\"mean test score: \", np.mean(result[\"test_score\"]))\n",
    "print(\"mean train score: \", np.mean(result[\"train_score\"]))"
   ]
  },
  {
   "source": [
    "No change adding popular stores ids..."
   ],
   "cell_type": "markdown",
   "metadata": {}
  },
  {
   "cell_type": "code",
   "execution_count": null,
   "metadata": {},
   "outputs": [],
   "source": []
  }
 ]
}